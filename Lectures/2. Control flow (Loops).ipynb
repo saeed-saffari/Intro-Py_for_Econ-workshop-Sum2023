{
 "cells": [
  {
   "cell_type": "markdown",
   "metadata": {},
   "source": [
    "#  1. Control flow (Loop, Conditional Control)"
   ]
  },
  {
   "cell_type": "markdown",
   "metadata": {},
   "source": [
    "<img src = \"https://github.com/saeed-saffari/alzahra-workshop-spr2021/blob/main/lecture/PIC/Loops-in-Python.png?raw=true\" width = 600 >"
   ]
  },
  {
   "cell_type": "markdown",
   "metadata": {},
   "source": [
    "Control flow is the set of techniques that allows us to manage the way code is executed.\n",
    "For example, you might want to execute some code provided a certain condition is `True`.\n",
    "Or you might want to repeat a certain action a given number of times.\n",
    "Or, again, you might want to run code as long as a condition is `True`, but you do not know how many times the code should be executed before the condition turns `True`.\n",
    "\n",
    "The three examples are managed by the statements [`if`](https://docs.python.org/3/reference/compound_stmts.html#the-if-statement), [`for`](https://docs.python.org/3/reference/compound_stmts.html#the-for-statement) and [`while`](https://docs.python.org/3/reference/compound_stmts.html#the-while-statement).\n",
    "Here we see basic applications, just to convey the idea.\n",
    "We should keep in mind two things when working with control flow statements:\n",
    "- The control flow statement has to be on a line that end with a semicolon (`:`).\n",
    "- The code block following the control flow statements has to be indented with four whitespaces.\n",
    "\n",
    "The `if` and `while` statements work provided that a certain condition holds.\n",
    "Such condition is a boolean value that is either `True` or `False`.\n",
    "Python supports boolean arithmetics with the keywords `and`, `or` and `not`.\n",
    "\n",
    "The `if` statement can be expanded to the `if`-`elif`-`else`."
   ]
  },
  {
   "cell_type": "markdown",
   "metadata": {},
   "source": [
    "### Loops\n",
    "When working with collections (`lists`, `sets`, `dictionaries`, etc.) it is possible\n",
    "to operate on every item using a loop.\n",
    "\n",
    "Defining a loop requires an iterable (in our example it is `sample_list`), which \n",
    "could be `list`, `tuple`, `set` or any other object that supports iteration. By\n",
    "specifying `item` we are asking python to iterate over one element of the list \n",
    "at a time, storing this element in a variable called `item`. \n",
    "\n",
    "Operations that should be perfomed within the loop must be idented (typically with\n",
    "four leading spaces, but some use tabs, two spaces, or some other identation). Also\n",
    "note the colon `:` at the end of the `for` statement."
   ]
  },
  {
   "cell_type": "markdown",
   "metadata": {},
   "source": [
    "## **1.1 for**"
   ]
  },
  {
   "cell_type": "markdown",
   "metadata": {},
   "source": [
    "The simplest loop is `for` loop, with the following syntax:\n",
    "\n",
    "```python\n",
    "sample_list = [1, 4, 7, 10]\n",
    "for item in sample_list:\n",
    "    print(item)\n",
    "```"
   ]
  },
  {
   "cell_type": "code",
   "execution_count": null,
   "metadata": {},
   "outputs": [],
   "source": []
  },
  {
   "cell_type": "code",
   "execution_count": null,
   "metadata": {},
   "outputs": [],
   "source": []
  },
  {
   "cell_type": "markdown",
   "metadata": {},
   "source": [
    "## **1.2 while**\n",
    "Python `While` Loop is used to execute a block of statements repeatedly until a given condition is satisfied. And when the condition becomes false, the line immediately after the loop in the program is executed. While loop falls under the category of indefinite iteration. Indefinite iteration means that the number of times the loop is executed isn’t specified explicitly in advance. "
   ]
  },
  {
   "cell_type": "markdown",
   "metadata": {},
   "source": [
    "<img src = \"https://github.com/saeed-saffari/alzahra-workshop-spr2021/blob/main/lecture/PIC/Looping.jpg?raw=true\">"
   ]
  },
  {
   "cell_type": "code",
   "execution_count": null,
   "metadata": {},
   "outputs": [],
   "source": []
  },
  {
   "cell_type": "code",
   "execution_count": null,
   "metadata": {},
   "outputs": [],
   "source": []
  },
  {
   "cell_type": "markdown",
   "metadata": {},
   "source": [
    "## **1.3 Conditions** (**if**, **elif**, **else**)"
   ]
  },
  {
   "cell_type": "markdown",
   "metadata": {},
   "source": [
    "<img src = \"https://github.com/saeed-saffari/alzahra-workshop-spr2021/blob/main/lecture/PIC/if-else.jpg?raw=true\" width = \"700\">"
   ]
  },
  {
   "cell_type": "markdown",
   "metadata": {},
   "source": [
    "If execution of command should depend on some condition, then we can use `if/else` syntax:\n",
    "\n",
    "```python\n",
    "if some_condition:\n",
    "    # run code here\n",
    "elif some_other_condition:\n",
    "    # run code here\n",
    "else:\n",
    "    # run code here\n",
    "```\n",
    "\n",
    "Note that the variables in `if/else` statements should be `Boolean` (True/False), by defaul Python\n",
    "will interpret 0 as False and non-zero as True. Try executing the following:\n",
    "\n",
    "```python\n",
    "if 0:\n",
    "    print(\"A\")\n",
    "    \n",
    "if 0.2:\n",
    "    print(\"B\")\n",
    "```"
   ]
  },
  {
   "cell_type": "code",
   "execution_count": null,
   "metadata": {},
   "outputs": [],
   "source": []
  },
  {
   "cell_type": "code",
   "execution_count": null,
   "metadata": {},
   "outputs": [],
   "source": []
  },
  {
   "cell_type": "markdown",
   "metadata": {},
   "source": [
    "### The break Statement"
   ]
  },
  {
   "cell_type": "markdown",
   "metadata": {},
   "source": [
    "<img src = \"https://github.com/saeed-saffari/alzahra-workshop-spr2021/blob/main/lecture/PIC/whlie%20expr.png?raw=true\" width = \"400\">"
   ]
  },
  {
   "cell_type": "markdown",
   "metadata": {},
   "source": [
    "With the `break` statement we can stop the loop even if the while condition is true:\n",
    "```python\n",
    "i = 1\n",
    "while i < 6:\n",
    "  print(i)\n",
    "  if i == 3:\n",
    "    break\n",
    "  i += 1\n",
    "```\n"
   ]
  },
  {
   "cell_type": "code",
   "execution_count": null,
   "metadata": {},
   "outputs": [],
   "source": []
  },
  {
   "cell_type": "code",
   "execution_count": null,
   "metadata": {},
   "outputs": [],
   "source": []
  },
  {
   "cell_type": "markdown",
   "metadata": {},
   "source": [
    "### The continue Statement"
   ]
  },
  {
   "cell_type": "markdown",
   "metadata": {},
   "source": [
    "With the `continue` statement we can stop the current iteration, and continue with the next:\n",
    "\n",
    "```python\n",
    "i = 0\n",
    "while i < 6:\n",
    "  i += 1 \n",
    "  if i == 3:\n",
    "    continue\n",
    "  print(i)\n",
    "```"
   ]
  },
  {
   "cell_type": "code",
   "execution_count": null,
   "metadata": {},
   "outputs": [],
   "source": []
  },
  {
   "cell_type": "code",
   "execution_count": null,
   "metadata": {},
   "outputs": [],
   "source": []
  },
  {
   "cell_type": "code",
   "execution_count": null,
   "metadata": {},
   "outputs": [],
   "source": []
  }
 ],
 "metadata": {
  "kernelspec": {
   "display_name": "Python 3 (ipykernel)",
   "language": "python",
   "name": "python3"
  },
  "language_info": {
   "codemirror_mode": {
    "name": "ipython",
    "version": 3
   },
   "file_extension": ".py",
   "mimetype": "text/x-python",
   "name": "python",
   "nbconvert_exporter": "python",
   "pygments_lexer": "ipython3",
   "version": "3.9.5"
  }
 },
 "nbformat": 4,
 "nbformat_minor": 4
}
