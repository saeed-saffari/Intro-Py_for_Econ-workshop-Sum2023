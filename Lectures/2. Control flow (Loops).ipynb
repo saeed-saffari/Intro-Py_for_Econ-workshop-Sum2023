{
 "cells": [
  {
   "cell_type": "markdown",
   "metadata": {},
   "source": [
    "#  1. Control flow (Loop, Conditional Control)"
   ]
  },
  {
   "cell_type": "markdown",
   "metadata": {},
   "source": [
    "<img src = \"https://github.com/saeed-saffari/alzahra-workshop-spr2021/blob/main/lecture/PIC/Loops-in-Python.png?raw=true\" width = 600 >"
   ]
  },
  {
   "cell_type": "markdown",
   "metadata": {},
   "source": [
    "Control flow is the set of techniques that allows us to manage the way code is executed.\n",
    "For example, you might want to execute some code provided a certain condition is `True`.\n",
    "Or you might want to repeat a certain action a given number of times.\n",
    "Or, again, you might want to run code as long as a condition is `True`, but you do not know how many times the code should be executed before the condition turns `True`.\n",
    "\n",
    "The three examples are managed by the statements [`if`](https://docs.python.org/3/reference/compound_stmts.html#the-if-statement), [`for`](https://docs.python.org/3/reference/compound_stmts.html#the-for-statement) and [`while`](https://docs.python.org/3/reference/compound_stmts.html#the-while-statement).\n",
    "Here we see basic applications, just to convey the idea.\n",
    "We should keep in mind two things when working with control flow statements:\n",
    "- The control flow statement has to be on a line that end with a semicolon (`:`).\n",
    "- The code block following the control flow statements has to be indented with four whitespaces.\n",
    "\n",
    "The `if` and `while` statements work provided that a certain condition holds.\n",
    "Such condition is a boolean value that is either `True` or `False`.\n",
    "Python supports boolean arithmetics with the keywords `and`, `or` and `not`.\n",
    "\n",
    "The `if` statement can be expanded to the `if`-`elif`-`else`."
   ]
  },
  {
   "cell_type": "markdown",
   "metadata": {},
   "source": [
    "### Loops\n",
    "When working with collections (`lists`, `sets`, `dictionaries`, etc.) it is possible\n",
    "to operate on every item using a loop.\n",
    "\n",
    "Defining a loop requires an iterable (in our example it is `sample_list`), which \n",
    "could be `list`, `tuple`, `set` or any other object that supports iteration. By\n",
    "specifying `item` we are asking python to iterate over one element of the list \n",
    "at a time, storing this element in a variable called `item`. \n",
    "\n",
    "Operations that should be perfomed within the loop must be idented (typically with\n",
    "four leading spaces, but some use tabs, two spaces, or some other identation). Also\n",
    "note the colon `:` at the end of the `for` statement."
   ]
  },
  {
   "cell_type": "markdown",
   "metadata": {},
   "source": [
    "## **1.1 for**"
   ]
  },
  {
   "cell_type": "markdown",
   "metadata": {},
   "source": [
    "The simplest loop is `for` loop, with the following syntax:\n",
    "\n",
    "```python\n",
    "sample_list = [1, 4, 7, 10]\n",
    "for item in sample_list:\n",
    "    print(item)\n",
    "```"
   ]
  },
  {
   "cell_type": "code",
   "execution_count": null,
   "metadata": {},
   "outputs": [],
   "source": [
    "for ... in ...:\n",
    "    ...\n",
    "    ...\n",
    "    ...\n",
    "    ..."
   ]
  },
  {
   "cell_type": "code",
   "execution_count": 1,
   "metadata": {},
   "outputs": [
    {
     "name": "stdout",
     "output_type": "stream",
     "text": [
      "['Saeed', 'Mahshid', 'Javad', 'Yalda', 'Hadise']\n"
     ]
    }
   ],
   "source": [
    "users = ['Saeed', 'Mahshid', 'Javad', 'Yalda', 'Hadise']\n",
    "print(users)"
   ]
  },
  {
   "cell_type": "code",
   "execution_count": 3,
   "metadata": {},
   "outputs": [
    {
     "data": {
      "text/plain": [
       "'Mahshid'"
      ]
     },
     "execution_count": 3,
     "metadata": {},
     "output_type": "execute_result"
    }
   ],
   "source": [
    "users[1]"
   ]
  },
  {
   "cell_type": "code",
   "execution_count": 6,
   "metadata": {},
   "outputs": [
    {
     "name": "stdout",
     "output_type": "stream",
     "text": [
      "Saeed\n",
      "Mahshid\n",
      "Javad\n",
      "Yalda\n",
      "Hadise\n"
     ]
    }
   ],
   "source": [
    "for user in users:\n",
    "    print(user)"
   ]
  },
  {
   "cell_type": "code",
   "execution_count": 12,
   "metadata": {},
   "outputs": [
    {
     "name": "stdout",
     "output_type": "stream",
     "text": [
      "Hi\n",
      "Saeed\n",
      "Hi\n",
      "Mahshid\n",
      "Hi\n",
      "Javad\n",
      "Hi\n",
      "Yalda\n",
      "Hi\n",
      "Hadise\n",
      "Bye\n"
     ]
    }
   ],
   "source": [
    "for user in users:\n",
    "    print('Hi')\n",
    "    print(user)\n",
    "print('Bye')"
   ]
  },
  {
   "cell_type": "code",
   "execution_count": 14,
   "metadata": {},
   "outputs": [
    {
     "name": "stdout",
     "output_type": "stream",
     "text": [
      "Hi\n",
      "Welcome Saeed!\n",
      "Hi\n",
      "Welcome Mahshid!\n",
      "Hi\n",
      "Welcome Javad!\n",
      "Hi\n",
      "Welcome Yalda!\n",
      "Hi\n",
      "Welcome Hadise!\n",
      "We are glad to see you all\n"
     ]
    }
   ],
   "source": [
    "for user in users:\n",
    "    print('Hi')\n",
    "    print(\"Welcome \" + user + \"!\")\n",
    "print('We are glad to see you all')"
   ]
  },
  {
   "cell_type": "code",
   "execution_count": 18,
   "metadata": {},
   "outputs": [
    {
     "name": "stdout",
     "output_type": "stream",
     "text": [
      "1\n",
      "25\n",
      "64\n",
      "144\n",
      "2304\n"
     ]
    }
   ],
   "source": [
    "for i in [1,5,8,12,48]:\n",
    "    print(i*i)"
   ]
  },
  {
   "cell_type": "code",
   "execution_count": 20,
   "metadata": {},
   "outputs": [
    {
     "name": "stdout",
     "output_type": "stream",
     "text": [
      "P\n",
      "Y\n",
      "T\n",
      "H\n",
      "O\n",
      "N\n",
      " \n",
      "C\n",
      "O\n",
      "U\n",
      "R\n",
      "S\n",
      "E\n"
     ]
    }
   ],
   "source": [
    "for letter in 'Python course':\n",
    "    print(letter.upper())"
   ]
  },
  {
   "cell_type": "code",
   "execution_count": 25,
   "metadata": {},
   "outputs": [
    {
     "data": {
      "text/plain": [
       "[-10, -9, -8, -7, -6, -5, -4, -3, -2, -1, 0, 1, 2, 3, 4, 5, 6, 7, 8, 9, 10]"
      ]
     },
     "execution_count": 25,
     "metadata": {},
     "output_type": "execute_result"
    }
   ],
   "source": [
    "list(range(-10,11))"
   ]
  },
  {
   "cell_type": "code",
   "execution_count": 26,
   "metadata": {},
   "outputs": [
    {
     "name": "stdout",
     "output_type": "stream",
     "text": [
      "3\n",
      "4\n",
      "5\n",
      "6\n",
      "7\n",
      "8\n",
      "9\n"
     ]
    }
   ],
   "source": [
    "for i in range(3,10):\n",
    "    print(i)"
   ]
  },
  {
   "cell_type": "code",
   "execution_count": 32,
   "metadata": {},
   "outputs": [
    {
     "name": "stdout",
     "output_type": "stream",
     "text": [
      "[1, 2, 3, 4, 5, 6, 7, 8, 9, 10, 11, 12, 13, 14, 15, 16, 17, 18, 19, 20, 21, 22, 23, 24]\n",
      "[1, 4, 9, 16, 25, 36, 49, 64, 81, 100, 121, 144, 169, 196, 225, 256, 289, 324, 361, 400, 441, 484, 529, 576]\n"
     ]
    }
   ],
   "source": [
    "Squares = []\n",
    "\n",
    "for i in range(1,25):\n",
    "    #print(i)\n",
    "    square = i ** 2\n",
    "    Squares.append(square)\n",
    "    #Squares.append(i**2)     # second solution\n",
    "\n",
    "print(list(range(1,25)))\n",
    "print(Squares)"
   ]
  },
  {
   "cell_type": "code",
   "execution_count": 37,
   "metadata": {},
   "outputs": [
    {
     "name": "stdout",
     "output_type": "stream",
     "text": [
      "1\n",
      "3\n",
      "6\n",
      "10\n",
      "15\n",
      "21\n",
      "28\n",
      "36\n",
      "45\n",
      "55\n",
      "55\n"
     ]
    }
   ],
   "source": [
    "list_sum = 0\n",
    "\n",
    "for i in range(1,11):\n",
    "    #print(i)\n",
    "    list_sum = i + list_sum\n",
    "    print(list_sum)\n",
    "    \n",
    "print(list_sum)"
   ]
  },
  {
   "cell_type": "code",
   "execution_count": 38,
   "metadata": {},
   "outputs": [],
   "source": [
    "a = 'python'"
   ]
  },
  {
   "cell_type": "code",
   "execution_count": 43,
   "metadata": {},
   "outputs": [
    {
     "name": "stdout",
     "output_type": "stream",
     "text": [
      "P\n"
     ]
    }
   ],
   "source": [
    "print(a[0].upper())"
   ]
  },
  {
   "cell_type": "markdown",
   "metadata": {},
   "source": [
    "## **1.2 while**\n",
    "Python `While` Loop is used to execute a block of statements repeatedly until a given condition is satisfied. And when the condition becomes false, the line immediately after the loop in the program is executed. While loop falls under the category of indefinite iteration. Indefinite iteration means that the number of times the loop is executed isn’t specified explicitly in advance. "
   ]
  },
  {
   "cell_type": "markdown",
   "metadata": {},
   "source": [
    "<img src = \"https://github.com/saeed-saffari/alzahra-workshop-spr2021/blob/main/lecture/PIC/Looping.jpg?raw=true\">"
   ]
  },
  {
   "cell_type": "code",
   "execution_count": 49,
   "metadata": {},
   "outputs": [
    {
     "data": {
      "text/plain": [
       "True"
      ]
     },
     "execution_count": 49,
     "metadata": {},
     "output_type": "execute_result"
    }
   ],
   "source": [
    "n = 0\n",
    "n < 10"
   ]
  },
  {
   "cell_type": "code",
   "execution_count": 57,
   "metadata": {},
   "outputs": [
    {
     "name": "stdout",
     "output_type": "stream",
     "text": [
      "0\n",
      "1\n",
      "2\n",
      "3\n",
      "4\n",
      "5\n",
      "6\n",
      "7\n",
      "8\n",
      "9\n"
     ]
    }
   ],
   "source": [
    "n = 0\n",
    "\n",
    "while n < 10:\n",
    "    print(n)\n",
    "    n = n + 1     # n += 1\n",
    "    #print(n)"
   ]
  },
  {
   "cell_type": "code",
   "execution_count": 66,
   "metadata": {},
   "outputs": [
    {
     "data": {
      "text/plain": [
       "23000.0"
      ]
     },
     "execution_count": 66,
     "metadata": {},
     "output_type": "execute_result"
    }
   ],
   "source": [
    "2.3e+4"
   ]
  },
  {
   "cell_type": "code",
   "execution_count": 67,
   "metadata": {},
   "outputs": [
    {
     "name": "stdout",
     "output_type": "stream",
     "text": [
      "1\n",
      "0.2\n",
      "0.04\n",
      "0.008\n",
      "0.0016\n",
      "0.00032\n"
     ]
    }
   ],
   "source": [
    "x = 1\n",
    "while x > 10 ** (-4):     # 1e-4\n",
    "    print(x)\n",
    "    x = x / 5\n",
    "    #x /= 5\n",
    "    #print(x)"
   ]
  },
  {
   "cell_type": "code",
   "execution_count": 62,
   "metadata": {},
   "outputs": [
    {
     "name": "stdout",
     "output_type": "stream",
     "text": [
      "1\n",
      "0.04\n",
      "0.0016\n"
     ]
    }
   ],
   "source": [
    "x = 1\n",
    "while x > 10 ** (-4):\n",
    "    print(x)\n",
    "    x = x / 5\n",
    "    x /= 5"
   ]
  },
  {
   "cell_type": "markdown",
   "metadata": {},
   "source": [
    "## **1.3 Conditions** (**if**, **elif**, **else**)"
   ]
  },
  {
   "cell_type": "markdown",
   "metadata": {},
   "source": [
    "<img src = \"https://github.com/saeed-saffari/alzahra-workshop-spr2021/blob/main/lecture/PIC/if-else.jpg?raw=true\" width = \"700\">"
   ]
  },
  {
   "cell_type": "markdown",
   "metadata": {},
   "source": [
    "If execution of command should depend on some condition, then we can use `if/else` syntax:\n",
    "\n",
    "```python\n",
    "if some_condition:\n",
    "    # run code here\n",
    "elif some_other_condition:\n",
    "    # run code here\n",
    "else:\n",
    "    # run code here\n",
    "```\n",
    "\n",
    "Note that the variables in `if/else` statements should be `Boolean` (True/False), by defaul Python\n",
    "will interpret 0 as False and non-zero as True. Try executing the following:\n",
    "\n",
    "```python\n",
    "if 0:\n",
    "    print(\"A\")\n",
    "    \n",
    "if 0.2:\n",
    "    print(\"B\")\n",
    "```"
   ]
  },
  {
   "cell_type": "code",
   "execution_count": 74,
   "metadata": {},
   "outputs": [
    {
     "name": "stdout",
     "output_type": "stream",
     "text": [
      "B\n"
     ]
    }
   ],
   "source": [
    "if 0:\n",
    "    print('A')\n",
    "    \n",
    "if 0.2:\n",
    "    print('B')"
   ]
  },
  {
   "cell_type": "code",
   "execution_count": 79,
   "metadata": {},
   "outputs": [
    {
     "data": {
      "text/plain": [
       "False"
      ]
     },
     "execution_count": 79,
     "metadata": {},
     "output_type": "execute_result"
    }
   ],
   "source": [
    "3 < 2"
   ]
  },
  {
   "cell_type": "code",
   "execution_count": 81,
   "metadata": {},
   "outputs": [],
   "source": [
    "if 3 < 2:\n",
    "    print('Thats is True!')"
   ]
  },
  {
   "cell_type": "code",
   "execution_count": 89,
   "metadata": {},
   "outputs": [
    {
     "name": "stdout",
     "output_type": "stream",
     "text": [
      "Enter your age: 17\n",
      "You can NOT vote yet!\n"
     ]
    }
   ],
   "source": [
    "age = int(input('Enter your age: '))\n",
    "\n",
    "if age >= 18:\n",
    "    print('You are old enough to vote!')\n",
    "else:\n",
    "    print('You can NOT vote yet!')"
   ]
  },
  {
   "cell_type": "code",
   "execution_count": 93,
   "metadata": {},
   "outputs": [
    {
     "name": "stdout",
     "output_type": "stream",
     "text": [
      "Enter your age: 13\n",
      "You can NOT vote yet!\n",
      "You are now 13 years old. You can will vote after 5 year(s).\n"
     ]
    }
   ],
   "source": [
    "age = int(input('Enter your age: '))\n",
    "\n",
    "if age >= 18:\n",
    "    print('You are old enough to vote!')\n",
    "else:\n",
    "    print('You can NOT vote yet!')\n",
    "    #print('You can will vote after ' + str(18 - age) + \" years.\" )\n",
    "    print('You are now {} years old. You can will vote after {} year(s).'.format(age, 18-age))"
   ]
  },
  {
   "cell_type": "code",
   "execution_count": 98,
   "metadata": {},
   "outputs": [],
   "source": [
    "# \"you are \" + str(age) + ' years old'"
   ]
  },
  {
   "cell_type": "code",
   "execution_count": 4,
   "metadata": {},
   "outputs": [
    {
     "name": "stdout",
     "output_type": "stream",
     "text": [
      "Enter your age: 100000\n",
      "Your cost is $10.\n"
     ]
    }
   ],
   "source": [
    "age = int(input('Enter your age: '))\n",
    "\n",
    "if age < 4:\n",
    "    price = 0\n",
    "elif  age < 16:\n",
    "    price = 5\n",
    "else:\n",
    "    price = 10\n",
    "    \n",
    "print('Your cost is ${}.'.format(price))"
   ]
  },
  {
   "cell_type": "code",
   "execution_count": 10,
   "metadata": {},
   "outputs": [
    {
     "name": "stdout",
     "output_type": "stream",
     "text": [
      "1 is odd numebr.\n",
      "2 is even number!\n",
      "4 is even number!\n",
      "5 is odd numebr.\n",
      "7 is odd numebr.\n",
      "23 is odd numebr.\n",
      "46 is even number!\n",
      "124 is even number!\n",
      "137 is odd numebr.\n",
      "954 is even number!\n",
      "235 is odd numebr.\n"
     ]
    }
   ],
   "source": [
    "my_list = [1,2,4,5,7,23,46,124,137,954,235]\n",
    "\n",
    "for num in my_list:\n",
    "    if num % 2 == 0:\n",
    "        print(num, 'is even number!')\n",
    "    else:\n",
    "    #elif num % 2 != 0:\n",
    "    #elif num % 2 == 1:\n",
    "        print(num, 'is odd numebr.')"
   ]
  },
  {
   "cell_type": "markdown",
   "metadata": {},
   "source": [
    "### The break Statement"
   ]
  },
  {
   "cell_type": "markdown",
   "metadata": {},
   "source": [
    "<img src = \"https://github.com/saeed-saffari/alzahra-workshop-spr2021/blob/main/lecture/PIC/whlie%20expr.png?raw=true\" width = \"400\">"
   ]
  },
  {
   "cell_type": "markdown",
   "metadata": {},
   "source": [
    "With the `break` statement we can stop the loop even if the while condition is true:\n",
    "```python\n",
    "i = 1\n",
    "while i < 6:\n",
    "  print(i)\n",
    "  if i == 3:\n",
    "    break\n",
    "  i += 1\n",
    "```\n"
   ]
  },
  {
   "cell_type": "code",
   "execution_count": 12,
   "metadata": {},
   "outputs": [
    {
     "name": "stdout",
     "output_type": "stream",
     "text": [
      "1\n",
      "2\n",
      "3\n"
     ]
    }
   ],
   "source": [
    "i = 1\n",
    "while i < 6:\n",
    "    print(i)\n",
    "    if i == 3:\n",
    "        break\n",
    "    i += 1"
   ]
  },
  {
   "cell_type": "code",
   "execution_count": 15,
   "metadata": {},
   "outputs": [
    {
     "name": "stdout",
     "output_type": "stream",
     "text": [
      "n\n",
      "o\n"
     ]
    }
   ],
   "source": [
    "mystring = 'nothing'\n",
    "\n",
    "for letter in mystring:\n",
    "    #print(letter)\n",
    "    if letter == 't':\n",
    "        break\n",
    "    print(letter)"
   ]
  },
  {
   "cell_type": "markdown",
   "metadata": {},
   "source": [
    "### The continue Statement"
   ]
  },
  {
   "cell_type": "markdown",
   "metadata": {},
   "source": [
    "With the `continue` statement we can stop the current iteration, and continue with the next:\n",
    "\n",
    "```python\n",
    "i = 0\n",
    "while i < 6:\n",
    "  i += 1 \n",
    "  if i == 3:\n",
    "    continue\n",
    "  print(i)\n",
    "```"
   ]
  },
  {
   "cell_type": "code",
   "execution_count": 17,
   "metadata": {},
   "outputs": [
    {
     "name": "stdout",
     "output_type": "stream",
     "text": [
      "1\n",
      "2\n",
      "4\n",
      "5\n",
      "6\n"
     ]
    }
   ],
   "source": [
    "i = 0\n",
    "while i < 6:\n",
    "    i += 1 \n",
    "    if i == 3:\n",
    "        continue\n",
    "    print(i)"
   ]
  },
  {
   "cell_type": "code",
   "execution_count": 19,
   "metadata": {},
   "outputs": [
    {
     "name": "stdout",
     "output_type": "stream",
     "text": [
      "n\n",
      "o\n",
      "h\n",
      "i\n",
      "n\n",
      "g\n"
     ]
    }
   ],
   "source": [
    "mystring = 'nothing'\n",
    "\n",
    "for letter in mystring:\n",
    "    if letter == 't':\n",
    "        continue\n",
    "    print(letter)"
   ]
  },
  {
   "cell_type": "code",
   "execution_count": null,
   "metadata": {},
   "outputs": [],
   "source": []
  },
  {
   "cell_type": "code",
   "execution_count": 21,
   "metadata": {},
   "outputs": [
    {
     "name": "stdout",
     "output_type": "stream",
     "text": [
      "Saeed 0\n",
      "Saeed 1\n",
      "Saeed 2\n",
      "Saeed 3\n",
      "Yalda 0\n",
      "Yalda 1\n",
      "Yalda 2\n",
      "Yalda 3\n",
      "Javad 0\n",
      "Javad 1\n",
      "Javad 2\n",
      "Javad 3\n",
      "Mahshid 0\n",
      "Mahshid 1\n",
      "Mahshid 2\n",
      "Mahshid 3\n"
     ]
    }
   ],
   "source": [
    "for i in ['Saeed', 'Yalda', 'Javad', 'Mahshid']:\n",
    "    for j in range(0,4):\n",
    "        print(i,j)"
   ]
  },
  {
   "cell_type": "code",
   "execution_count": 22,
   "metadata": {},
   "outputs": [
    {
     "name": "stdout",
     "output_type": "stream",
     "text": [
      "Saeed 0\n",
      "Saeed 1\n",
      "Yalda 0\n",
      "Yalda 1\n",
      "Javad 0\n",
      "Javad 1\n",
      "Mahshid 0\n",
      "Mahshid 1\n"
     ]
    }
   ],
   "source": [
    "for i in ['Saeed', 'Yalda', 'Javad', 'Mahshid']:\n",
    "    for j in range(0,4):\n",
    "        if j == 2:\n",
    "            break\n",
    "        print(i,j)"
   ]
  },
  {
   "cell_type": "code",
   "execution_count": 23,
   "metadata": {},
   "outputs": [
    {
     "name": "stdout",
     "output_type": "stream",
     "text": [
      "Saeed 0\n",
      "Saeed 1\n",
      "Yalda 0\n",
      "Yalda 1\n",
      "Mahshid 0\n",
      "Mahshid 1\n"
     ]
    }
   ],
   "source": [
    "for i in ['Saeed', 'Yalda', 'Javad', 'Mahshid']:\n",
    "    for j in range(0,4):\n",
    "        if j == 2 or i == 'Javad':\n",
    "            break\n",
    "        print(i,j)"
   ]
  },
  {
   "cell_type": "code",
   "execution_count": null,
   "metadata": {},
   "outputs": [],
   "source": []
  }
 ],
 "metadata": {
  "kernelspec": {
   "display_name": "Python 3 (ipykernel)",
   "language": "python",
   "name": "python3"
  },
  "language_info": {
   "codemirror_mode": {
    "name": "ipython",
    "version": 3
   },
   "file_extension": ".py",
   "mimetype": "text/x-python",
   "name": "python",
   "nbconvert_exporter": "python",
   "pygments_lexer": "ipython3",
   "version": "3.9.5"
  }
 },
 "nbformat": 4,
 "nbformat_minor": 4
}
