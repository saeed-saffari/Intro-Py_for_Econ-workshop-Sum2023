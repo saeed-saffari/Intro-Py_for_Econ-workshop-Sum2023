{
 "cells": [
  {
   "cell_type": "markdown",
   "metadata": {},
   "source": [
    "# 1. Introduction to Python"
   ]
  },
  {
   "cell_type": "markdown",
   "metadata": {},
   "source": [
    "Python is a programming language.\n",
    "It is not a mathematics-oriented language in and of itself.\n",
    "It is a general-purpose language, meaning we can do pretty much what we want with it.\n",
    "\n",
    "[![Python](https://imgs.xkcd.com/comics/python.png)](https://xkcd.com/353/)\n",
    "\n",
    "Here is a (supershort) list of what humanity did with Python:\n",
    "\n",
    "- Dropbox (Source: [Dropbox Blog](https://blogs.dropbox.com/tech/2018/09/how-we-rolled-out-one-of-the-largest-python-3-migrations-ever/))\n",
    "- Image editing ([The GNU Image Manipulation Program](https://www.gimp.org/))\n",
    "- Vector graphics ([Inkscape](https://inkscape.org/))\n",
    "- 3D modeling ([Blender](https://www.blender.org/))\n",
    "- Desktop publishing ([Scribus](https://www.scribus.net/))\n",
    "- Web pages ([Reddit](https://www.reddit.com/), Source: [Reddit Blog](https://redditblog.com/2005/12/05/on-lisp/))\n",
    "\n",
    "Also in economics we have a great sites like [QuantEcon](https://quantecon.org) by **Prof. Sargent** and his team and you can find many economics models on it."
   ]
  },
  {
   "cell_type": "markdown",
   "metadata": {},
   "source": [
    "# 2. How to work with the notebooks in colab/binder"
   ]
  },
  {
   "cell_type": "markdown",
   "metadata": {},
   "source": [
    "## Jupyter notebook:\n",
    "\n",
    "<img src = \"https://github.com/saeed-saffari/alzahra-workshop-spr2021/blob/main/lecture/jupyter.png?raw=true\">\n",
    "\n",
    "- notebook as a collection of cells\n",
    "- two main cell types: text (markdown) and code\n",
    "- click on a cell to edit the contents\n",
    "- Shift+Enter to run the code within a code cell or render the text cell\n",
    "- be aware of the execution order\n",
    "- installing necessary modules with pip and conda\n",
    "\n"
   ]
  },
  {
   "cell_type": "code",
   "execution_count": 19,
   "metadata": {},
   "outputs": [],
   "source": [
    "# kernels"
   ]
  },
  {
   "cell_type": "code",
   "execution_count": 18,
   "metadata": {},
   "outputs": [],
   "source": [
    "# hotkey"
   ]
  },
  {
   "cell_type": "code",
   "execution_count": null,
   "metadata": {},
   "outputs": [],
   "source": [
    "# markdown"
   ]
  },
  {
   "cell_type": "code",
   "execution_count": null,
   "metadata": {},
   "outputs": [],
   "source": []
  },
  {
   "cell_type": "code",
   "execution_count": null,
   "metadata": {},
   "outputs": [],
   "source": []
  },
  {
   "cell_type": "markdown",
   "metadata": {},
   "source": [
    "Every code line in Python is interpreted as a `command`, unless it starts\n",
    "with the hash/pound sign, in which case it is considered to be a `comment`:\n",
    "\n",
    "```\n",
    "# the line below will be executed\n",
    "1+1\n",
    "\n",
    "# the line below will not be executed\n",
    "# 1+2\n",
    "```"
   ]
  },
  {
   "cell_type": "code",
   "execution_count": 2,
   "metadata": {},
   "outputs": [],
   "source": []
  },
  {
   "cell_type": "code",
   "execution_count": 3,
   "metadata": {},
   "outputs": [],
   "source": []
  },
  {
   "cell_type": "markdown",
   "metadata": {},
   "source": [
    "# 3. The Basics"
   ]
  },
  {
   "cell_type": "markdown",
   "metadata": {},
   "source": [
    "Python alone cannot do much.\n",
    "For this reason, we are almost always going to work with a package (It will be taught in future sessions).\n",
    "However, it is fundamental to understand the basics.\n",
    "This involves familiarizing with the _syntax_ and with the basic _data types_.\n",
    "\n",
    "Syntax is the set of rules that govern writing code.\n",
    "This includes how to write an _assignment_ (providing a variable with a value), how to call functions and how to access items in a iterable object (e.g., lists, arrays).\n",
    "It also includes _code blocks,_ which execute conditionally on a given rule (e.g., `if`, `while`).\n",
    "\n"
   ]
  },
  {
   "cell_type": "code",
   "execution_count": null,
   "metadata": {},
   "outputs": [],
   "source": []
  },
  {
   "cell_type": "markdown",
   "metadata": {},
   "source": [
    "## 3.1 Arithmetic operations and variables"
   ]
  },
  {
   "cell_type": "markdown",
   "metadata": {},
   "source": [
    "Let's start with basic calculations in Python. Entering some arithmetic operation in the code cell below (e.g. `2+2`):\n",
    "\n",
    "<br><center> <b>Arithmetic Operators<b> <center>\n",
    "<br>\n",
    "\n",
    "| Symbol | Task Performed | Description| Example<br> (a = 10 & b = 20) |\n",
    "|:----:|:---:|:---:|:---:| \n",
    "| +  | Addition | Adds values on either side of the operator. | a + b = 30\n",
    "| -  | Subtraction | Subtracts right hand operand from left hand operand. | a – b = -10\n",
    "| /  | division | Divides left hand operand by right hand operand | b / a = 2\n",
    "| %  | mod | Divides left hand operand by right hand operand and returns remainder | b % a = 0\n",
    "| *  | multiplication | Multiplies values on either side of the operator | a * b = 200\n",
    "| //  | floor division | he division of operands where the result is the quotient in<br> which the digits after the decimal point are removed. | b // a = 2\n",
    "| **  | to the power of | Performs exponential (power) calculation on operators | a**b =$10^{20}$"
   ]
  },
  {
   "cell_type": "code",
   "execution_count": null,
   "metadata": {},
   "outputs": [],
   "source": []
  },
  {
   "cell_type": "code",
   "execution_count": null,
   "metadata": {},
   "outputs": [],
   "source": []
  },
  {
   "cell_type": "markdown",
   "metadata": {},
   "source": [
    "As with many programming languages, we are defining variables and changing their values all the time in Python.\n",
    "We can create a variable simply by inventing a name and assigning a value to it, like the following.\n",
    "\n",
    "To store the results of a calculation in a `variable` we can use `=` sign.\n",
    "\n",
    "```python\n",
    "sample_number = 2 + 3\n",
    "```\n",
    "\n",
    "When working inside the notebooks, we can see the result of the last executed command\n",
    "or a `variable`. For example, what do you see when you type the code below in a blank cell?\n",
    "\n",
    "```\n",
    "sample_number\n",
    "```"
   ]
  },
  {
   "cell_type": "code",
   "execution_count": null,
   "metadata": {},
   "outputs": [],
   "source": []
  },
  {
   "cell_type": "code",
   "execution_count": null,
   "metadata": {},
   "outputs": [],
   "source": []
  },
  {
   "cell_type": "markdown",
   "metadata": {},
   "source": [
    "Later in the code we can re-use this variable, check what is the output of this command:\n",
    "\n",
    "```python\n",
    "sample_number + 1\n",
    "```"
   ]
  },
  {
   "cell_type": "code",
   "execution_count": null,
   "metadata": {},
   "outputs": [],
   "source": []
  },
  {
   "cell_type": "code",
   "execution_count": null,
   "metadata": {},
   "outputs": [],
   "source": []
  },
  {
   "cell_type": "markdown",
   "metadata": {},
   "source": [
    "## 3.2 Relational Operators"
   ]
  },
  {
   "cell_type": "markdown",
   "metadata": {},
   "source": [
    "Relational operators are used for comparing the values. It either returns **True** or **False** according to the condition. These operators are also known as Comparison Operators.\n",
    "\n",
    "| Symbol | Task Performed | Description|\n",
    "|:----:  |:---:|:---:| \n",
    "|=\t     |Assignment| Assigns values from right side operands to left side operand\n",
    "|==      |True, if it is equal| If the values of two operands are equal, then the condition becomes true.|\n",
    "|!=      |True, if not equal to| If values of two operands are not equal, then condition becomes true.|\n",
    "|<\t     |less than| If the value of left operand is less than the value of right operand,<br> then condition becomes true.\n",
    "|>\t     |greater than| If the value of left operand is greater than the value of right operand, <br>then condition becomes true.\n",
    "|<=      |less than or equal to| If the value of left operand is less than or equal to the value of right operand,<br> then condition becomes true.\n",
    "|>=      |greater than or equal to|If the value of left operand is greater than or equal to the value of right operand, <br>then condition becomes true."
   ]
  },
  {
   "cell_type": "code",
   "execution_count": null,
   "metadata": {},
   "outputs": [],
   "source": []
  },
  {
   "cell_type": "code",
   "execution_count": null,
   "metadata": {},
   "outputs": [],
   "source": []
  },
  {
   "cell_type": "markdown",
   "metadata": {},
   "source": [
    "## 3.3 Type"
   ]
  },
  {
   "cell_type": "markdown",
   "metadata": {},
   "source": [
    "Now we have a variable whose name is `a` and its value is `1`.\n",
    "This variable has a _type_, which is the kind of value it contains.\n",
    "In particular, `1` is an integer, whose type is represented in Python with the keyword `int`.\n",
    "Understanding that variables can be of different types is important, because the type defines what we can do with that variable.\n",
    "We can ask Python to tell us the type of a variable by using the `type()` function."
   ]
  },
  {
   "cell_type": "code",
   "execution_count": null,
   "metadata": {},
   "outputs": [],
   "source": []
  },
  {
   "cell_type": "code",
   "execution_count": null,
   "metadata": {},
   "outputs": [],
   "source": []
  },
  {
   "cell_type": "markdown",
   "metadata": {},
   "source": [
    "### 3.3.1 Text (`str`)"
   ]
  },
  {
   "cell_type": "markdown",
   "metadata": {},
   "source": [
    "A basic object in Python is text.\n",
    "This is formally represented with a `str` object.\n",
    "Strings are denoted either with single or double quotes, and the choice between them is a matter of taste."
   ]
  },
  {
   "cell_type": "code",
   "execution_count": null,
   "metadata": {},
   "outputs": [],
   "source": []
  },
  {
   "cell_type": "code",
   "execution_count": null,
   "metadata": {},
   "outputs": [],
   "source": []
  },
  {
   "cell_type": "markdown",
   "metadata": {},
   "source": [
    "There must always be consistency between opening a closing quotes. This means that single quotes can only close single quotes and double quotes can only close double quotes."
   ]
  },
  {
   "cell_type": "code",
   "execution_count": null,
   "metadata": {},
   "outputs": [],
   "source": []
  },
  {
   "cell_type": "markdown",
   "metadata": {},
   "source": [
    "As mentioned, Python variables can also contain `string` data:\n",
    "\n",
    "```python\n",
    "sample_string = \"abc\"\n",
    "```"
   ]
  },
  {
   "cell_type": "code",
   "execution_count": null,
   "metadata": {},
   "outputs": [],
   "source": []
  },
  {
   "cell_type": "markdown",
   "metadata": {},
   "source": [
    "Python allows performing some operations with string variables using notation similar to\n",
    "arithmetic operators. For example:\n",
    "\n",
    "```python\n",
    "sample_string*2\n",
    "```"
   ]
  },
  {
   "cell_type": "code",
   "execution_count": null,
   "metadata": {},
   "outputs": [],
   "source": []
  },
  {
   "cell_type": "markdown",
   "metadata": {},
   "source": [
    "It does not matter if you put the strings in single or double quotes::\n",
    "\n",
    "```python\n",
    "sample_string = \"abc\" + 'def'\n",
    "```"
   ]
  },
  {
   "cell_type": "code",
   "execution_count": null,
   "metadata": {},
   "outputs": [],
   "source": []
  },
  {
   "cell_type": "code",
   "execution_count": null,
   "metadata": {},
   "outputs": [],
   "source": []
  },
  {
   "cell_type": "markdown",
   "metadata": {},
   "source": [
    "### 3.3.2 Numbers (`int` and a`float`)"
   ]
  },
  {
   "cell_type": "markdown",
   "metadata": {},
   "source": [
    "We already encountered integer numbers, whose type is `int`.\n",
    "Another numerical type we are going to use very often is `float`.\n",
    "This essentially is a non-integer real number, although the inner workings of [floating-point numbers](https://en.wikipedia.org/wiki/Floating-point_arithmetic) are more complicated.\n",
    "We can initialize a variable to be of type `float` by simply assigning a decimal number to a variable."
   ]
  },
  {
   "cell_type": "code",
   "execution_count": null,
   "metadata": {},
   "outputs": [],
   "source": []
  },
  {
   "cell_type": "code",
   "execution_count": null,
   "metadata": {},
   "outputs": [],
   "source": []
  },
  {
   "cell_type": "markdown",
   "metadata": {},
   "source": [
    "This works even when the digit on the right of the decimal point is non significant.\n",
    "The simple fact that we typed a period in the number tells Python that we want to work with floating point numbers."
   ]
  },
  {
   "cell_type": "code",
   "execution_count": null,
   "metadata": {},
   "outputs": [],
   "source": []
  },
  {
   "cell_type": "markdown",
   "metadata": {},
   "source": [
    "Both `int` and `float` variables support conventional arithmetic operations, such as addition (`+`), subtraction (`-`), multiplication (`*`), division (`/`) and raise to power (`**`).\n",
    "For example:"
   ]
  },
  {
   "cell_type": "code",
   "execution_count": null,
   "metadata": {},
   "outputs": [],
   "source": []
  },
  {
   "cell_type": "code",
   "execution_count": null,
   "metadata": {},
   "outputs": [],
   "source": []
  },
  {
   "cell_type": "markdown",
   "metadata": {},
   "source": [
    "Other operations that might be handy are floor division (`//`) and the _mod_ operation (`%`).\n",
    "The former returns the largest integer smaller than the quotient, while the latter returns the remainder of floor division."
   ]
  },
  {
   "cell_type": "code",
   "execution_count": null,
   "metadata": {},
   "outputs": [],
   "source": []
  },
  {
   "cell_type": "code",
   "execution_count": null,
   "metadata": {},
   "outputs": [],
   "source": []
  },
  {
   "cell_type": "markdown",
   "metadata": {},
   "source": [
    "### 3.3.3. Iterable objects (`list`, `dict` and `tuple`)"
   ]
  },
  {
   "cell_type": "markdown",
   "metadata": {},
   "source": [
    "Often we want to collect objects in arrays.\n",
    "The most basic example is a vector, which is an organized array of numbers.\n",
    "Python (mainly) provides three iterable objects."
   ]
  },
  {
   "cell_type": "markdown",
   "metadata": {},
   "source": [
    "####  3.3.3.1 **List**"
   ]
  },
  {
   "cell_type": "markdown",
   "metadata": {},
   "source": [
    "\n",
    "We first look at **lists**.\n",
    "These are arrays of heterogeneous objects.\n",
    "They are created by collecting objects in square brackets.\n",
    "\n",
    "A list of objects is an odered collection of items, for example `['a', 'b', 'c', 'a', 123]`. Since\n",
    "lists are ordered, every item in the list has an associated index that starts with 0. This provides\n",
    "access to specific elements of the list by specifying their index. For example, 'b' in the list above has index `1`.\n",
    "The syntax for accessing a specific element is to provide its index in square brackets, e.g. `sample_list[1]`.\n",
    "\n",
    "There are no restriction on the contents of the list, they can contain repeated values\n",
    "(e.g. 'a' in the list above) or they can contain different data types (e.g. strings and integers in the list above).\n",
    "\n"
   ]
  },
  {
   "cell_type": "code",
   "execution_count": null,
   "metadata": {},
   "outputs": [],
   "source": []
  },
  {
   "cell_type": "code",
   "execution_count": null,
   "metadata": {},
   "outputs": [],
   "source": []
  },
  {
   "cell_type": "markdown",
   "metadata": {},
   "source": [
    "Lists can also nest."
   ]
  },
  {
   "cell_type": "code",
   "execution_count": null,
   "metadata": {},
   "outputs": [],
   "source": []
  },
  {
   "cell_type": "markdown",
   "metadata": {},
   "source": [
    "We can access the contents of any iterable object using square brackets."
   ]
  },
  {
   "cell_type": "code",
   "execution_count": null,
   "metadata": {},
   "outputs": [],
   "source": []
  },
  {
   "cell_type": "code",
   "execution_count": null,
   "metadata": {},
   "outputs": [],
   "source": []
  },
  {
   "cell_type": "markdown",
   "metadata": {},
   "source": [
    "Sometimes we want to use sequences inside a list, e.g. all items from start until the third item.\n",
    "For this we can use the slicing notation:\n",
    "```\n",
    "[start:stop:step_size]\n",
    "```\n",
    "\n",
    "If `start` is missing, the assumption is to start from 0, if `stop` is missing the assumption\n",
    "is to run up to and including the last item. If `step_size` is missing then iteration\n",
    "will go over all items between `start` and `stop`. \n",
    "\n",
    "Specifying `step_size` will display every `step_size`'th item, e.g. `[::2]` will display every second\n",
    "item starting from the first item. Note that specifying a negative number will reverse the order in which items in the list are\n",
    "displayed. "
   ]
  },
  {
   "cell_type": "code",
   "execution_count": null,
   "metadata": {},
   "outputs": [],
   "source": []
  },
  {
   "cell_type": "code",
   "execution_count": null,
   "metadata": {},
   "outputs": [],
   "source": []
  },
  {
   "cell_type": "markdown",
   "metadata": {},
   "source": [
    "- With `.append()`, you can add items to the end of an existing list object. However, you need to keep in mind that .append() adds only a single item or object at a time:"
   ]
  },
  {
   "cell_type": "code",
   "execution_count": null,
   "metadata": {},
   "outputs": [],
   "source": []
  },
  {
   "cell_type": "code",
   "execution_count": null,
   "metadata": {},
   "outputs": [],
   "source": []
  },
  {
   "cell_type": "markdown",
   "metadata": {},
   "source": [
    "- The `.extend()` method adds all the elements of an iterable (list, tuple, string etc.) to the end of the list."
   ]
  },
  {
   "cell_type": "code",
   "execution_count": null,
   "metadata": {},
   "outputs": [],
   "source": []
  },
  {
   "cell_type": "code",
   "execution_count": null,
   "metadata": {},
   "outputs": [],
   "source": []
  },
  {
   "cell_type": "markdown",
   "metadata": {},
   "source": [
    "- The `.index()` method returns the index of the specified element in the list.\n",
    "```python\n",
    "list.insert(i, elm)\n",
    "```\n",
    "Here, `elem` is inserted to the list at the $i^{th}$ index. All the elements after `elem` are shifted to the right."
   ]
  },
  {
   "cell_type": "code",
   "execution_count": null,
   "metadata": {},
   "outputs": [],
   "source": []
  },
  {
   "cell_type": "code",
   "execution_count": null,
   "metadata": {},
   "outputs": [],
   "source": []
  },
  {
   "cell_type": "markdown",
   "metadata": {},
   "source": [
    "- The `.count()` method returns the number of times the specified element appears in the list."
   ]
  },
  {
   "cell_type": "code",
   "execution_count": null,
   "metadata": {},
   "outputs": [],
   "source": []
  },
  {
   "cell_type": "markdown",
   "metadata": {},
   "source": [
    "- The `.clear()` method removes all items from the list."
   ]
  },
  {
   "cell_type": "code",
   "execution_count": null,
   "metadata": {},
   "outputs": [],
   "source": []
  },
  {
   "cell_type": "code",
   "execution_count": null,
   "metadata": {},
   "outputs": [],
   "source": []
  },
  {
   "cell_type": "markdown",
   "metadata": {},
   "source": [
    "- We have two methods (`.remove()` and `.pop()`) to delete elements in out lists.<br>\n",
    "The `.remove(item)` method removes the first matching element (which is passed as an argument) from the list.  \n",
    "The `.pop(index)` method removes the item at the given index from the list and returns the removed item."
   ]
  },
  {
   "cell_type": "code",
   "execution_count": null,
   "metadata": {},
   "outputs": [],
   "source": []
  },
  {
   "cell_type": "code",
   "execution_count": null,
   "metadata": {},
   "outputs": [],
   "source": []
  },
  {
   "cell_type": "markdown",
   "metadata": {},
   "source": [
    "- The `.reverse()` method reverses the elements of the list."
   ]
  },
  {
   "cell_type": "code",
   "execution_count": null,
   "metadata": {},
   "outputs": [],
   "source": []
  },
  {
   "cell_type": "code",
   "execution_count": null,
   "metadata": {},
   "outputs": [],
   "source": []
  },
  {
   "cell_type": "markdown",
   "metadata": {},
   "source": [
    "- The `.sort()` method sorts the items of a list in ascending or descending order.<br>\n",
    "The `.sort()` method accepts a reverse parameter as an optional argument.  \n",
    "    - Setting `reverse = True` sorts the list in the descending order.\n",
    "\n"
   ]
  },
  {
   "cell_type": "code",
   "execution_count": null,
   "metadata": {},
   "outputs": [],
   "source": []
  },
  {
   "cell_type": "code",
   "execution_count": null,
   "metadata": {},
   "outputs": [],
   "source": []
  },
  {
   "cell_type": "markdown",
   "metadata": {},
   "source": [
    "####  3.3.3.2 **Dictionary**"
   ]
  },
  {
   "cell_type": "markdown",
   "metadata": {},
   "source": [
    "Finally, we have **dictionaries**.\n",
    "These are essentially lists, with the difference that each element is assigned to a _key_.\n",
    "We create dictionaries using curly braces.\n",
    "\n",
    "\n",
    "`Dictionary` is a data type that contains a combination of key-value items, for example:\n",
    "\n",
    "```python\n",
    "sample_dictionary = dict(math=19, econ=20, physics=16, geology=14)\n",
    "sample_dictionary_alt = {'math' =19, 'econ'= 20, 'physics'= 16, 'geology'= 14}\n",
    "print(sample_dictionary, sample_dictionary_alt)\n",
    "```\n",
    "\n",
    "Once a dictionary is defined we can access specific values by using relevant key, specifying\n",
    "it in square brackets, for example:\n",
    "\n",
    "```python\n",
    "print(sample_dictionary['econ'])\n",
    "```\n",
    "\n",
    "We can use a similar notation to add new key/value pairs to the dictionary:\n",
    "\n",
    "```python\n",
    "sample_dictionary['python'] = True\n",
    "print(sample_dictionary)\n",
    "```"
   ]
  },
  {
   "cell_type": "code",
   "execution_count": null,
   "metadata": {},
   "outputs": [],
   "source": []
  },
  {
   "cell_type": "code",
   "execution_count": null,
   "metadata": {},
   "outputs": [],
   "source": []
  },
  {
   "cell_type": "markdown",
   "metadata": {},
   "source": [
    "The advantage of dictionaries is that we can access their elements by specifying the name of the key, rather than using a number to index the position."
   ]
  },
  {
   "cell_type": "code",
   "execution_count": null,
   "metadata": {},
   "outputs": [],
   "source": []
  },
  {
   "cell_type": "markdown",
   "metadata": {},
   "source": [
    "We can access to values and keys of dictionary with below commands:"
   ]
  },
  {
   "cell_type": "code",
   "execution_count": null,
   "metadata": {},
   "outputs": [],
   "source": []
  },
  {
   "cell_type": "code",
   "execution_count": null,
   "metadata": {},
   "outputs": [],
   "source": []
  },
  {
   "cell_type": "markdown",
   "metadata": {},
   "source": [
    "#### 3.3.3.3 **Tuple**"
   ]
  },
  {
   "cell_type": "markdown",
   "metadata": {},
   "source": [
    "Another way to collect objects is using a **tuple**.\n",
    "This is similar to a `list` and it is created by using round parentheses."
   ]
  },
  {
   "cell_type": "code",
   "execution_count": null,
   "metadata": {},
   "outputs": [],
   "source": []
  },
  {
   "cell_type": "code",
   "execution_count": null,
   "metadata": {},
   "outputs": [],
   "source": []
  },
  {
   "cell_type": "markdown",
   "metadata": {},
   "source": [
    "What distinguishes lists from tuples is the ability to replace items without creating the iterable from scratch.\n",
    "We can replace items in a list, but we cannot do so with a tuple."
   ]
  },
  {
   "cell_type": "code",
   "execution_count": null,
   "metadata": {},
   "outputs": [],
   "source": []
  },
  {
   "cell_type": "code",
   "execution_count": null,
   "metadata": {},
   "outputs": [],
   "source": []
  }
 ],
 "metadata": {
  "kernelspec": {
   "display_name": "Python 3",
   "language": "python",
   "name": "python3"
  },
  "language_info": {
   "codemirror_mode": {
    "name": "ipython",
    "version": 3
   },
   "file_extension": ".py",
   "mimetype": "text/x-python",
   "name": "python",
   "nbconvert_exporter": "python",
   "pygments_lexer": "ipython3",
   "version": "3.8.8"
  }
 },
 "nbformat": 4,
 "nbformat_minor": 4
}
